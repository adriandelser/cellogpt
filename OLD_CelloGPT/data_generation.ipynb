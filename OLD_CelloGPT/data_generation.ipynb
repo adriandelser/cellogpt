{
 "cells": [
  {
   "cell_type": "code",
   "execution_count": 2,
   "metadata": {},
   "outputs": [],
   "source": [
    "import math\n",
    "import random\n",
    "import mlx.core as mx\n"
   ]
  },
  {
   "cell_type": "markdown",
   "metadata": {},
   "source": [
    "Now we generate the dictionaries needed to lookup fingerings and convert from note names to integer representations and vice versa"
   ]
  },
  {
   "cell_type": "code",
   "execution_count": 3,
   "metadata": {},
   "outputs": [],
   "source": [
    "notes = [chr(num%7+ord('A'))+str(math.floor(num/7)) for num in range(2,18)]\n",
    "ntoi:dict[str,int] = {note:idx for idx, note in enumerate(notes)} #note to integer represenation of note\n",
    "iton:dict[int,str] = {idx:note for note, idx in ntoi.items()} #integer to note\n",
    "fingerings:list = [0,1,3,4,0,1,3,4,0,1,2,4,0,1,2,4] #fingering for C major scale up to D natural on A string\n",
    "itof:dict[int,int] = {i:f for i, f in enumerate(fingerings)} #integer to fingering value \n",
    "ntof:dict[str,int] = {iton[i]:f for i, f in itof.items()} #note to fingering value"
   ]
  },
  {
   "cell_type": "markdown",
   "metadata": {},
   "source": [
    "Generate random music generation function and corresponding fingering function"
   ]
  },
  {
   "cell_type": "code",
   "execution_count": 5,
   "metadata": {},
   "outputs": [],
   "source": [
    "def random_music(n:int, low:str = 'C0', high:str = 'D2')->list[int]:\n",
    "    lowest, highest = ntoi[low], ntoi[high]\n",
    "    rand_notes = [random.randint(lowest,highest) for _ in range(n)]\n",
    "    return rand_notes\n",
    "\n",
    "def get_fingerings(notes:list[int])->list[int]:\n",
    "    return[itof[note] for note in notes]"
   ]
  },
  {
   "cell_type": "markdown",
   "metadata": {},
   "source": [
    "Generate some random notes and their fingerings"
   ]
  },
  {
   "cell_type": "code",
   "execution_count": 6,
   "metadata": {},
   "outputs": [
    {
     "name": "stdout",
     "output_type": "stream",
     "text": [
      "[0, 0, 1, 1, 4, 3, 3, 3, 0, 3, 4, 0, 0, 3, 0, 2, 1, 1, 4, 1, 3, 1, 1, 2, 4, 1, 3, 1, 2, 1, 4, 0, 1, 1, 0, 4, 3, 1, 1, 4, 3, 0, 0, 0, 4, 2, 3, 4, 4, 0, 1, 1, 4, 3, 1, 1, 0, 4, 3, 3, 1, 0, 4, 4, 0, 4, 4, 4, 4, 1, 4, 1, 4, 0, 1, 4, 4, 0, 4, 1, 1, 0, 2, 4, 0, 1, 1, 0, 0, 0, 4, 4, 4, 1, 1, 1, 1, 0, 3, 3, 1, 2, 0, 0, 2, 1, 0, 1, 1, 0, 3, 0, 4, 4, 0, 1, 1, 1, 2, 1, 0, 4, 1, 0, 2, 1, 0, 1, 2, 4, 4, 1, 3, 0, 0, 4, 1, 3, 0, 0, 4, 0, 3, 3, 2, 4, 3, 1, 0, 2, 1, 4, 1, 0, 4, 4, 1, 4, 0, 1, 1, 2, 2, 4, 2, 2, 4, 2, 0, 2, 1, 0, 2, 2, 4, 4, 4, 0, 4, 4, 3, 3, 1, 0, 4, 3, 4, 4, 4, 1, 1, 4, 1, 4, 4, 1, 2, 4, 4, 0]\n"
     ]
    }
   ],
   "source": [
    "notes_range = ['C0', 'D2'] #min, max\n",
    "random_notes = random_music(200, *notes_range)\n",
    "print(get_fingerings(random_notes))"
   ]
  },
  {
   "cell_type": "code",
   "execution_count": null,
   "metadata": {},
   "outputs": [],
   "source": []
  }
 ],
 "metadata": {
  "kernelspec": {
   "display_name": "cellogpt-4WBUUNYK-py3.11",
   "language": "python",
   "name": "python3"
  },
  "language_info": {
   "codemirror_mode": {
    "name": "ipython",
    "version": 3
   },
   "file_extension": ".py",
   "mimetype": "text/x-python",
   "name": "python",
   "nbconvert_exporter": "python",
   "pygments_lexer": "ipython3",
   "version": "3.11.7"
  }
 },
 "nbformat": 4,
 "nbformat_minor": 2
}
